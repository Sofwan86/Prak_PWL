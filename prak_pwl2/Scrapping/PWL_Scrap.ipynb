{
  "nbformat": 4,
  "nbformat_minor": 0,
  "metadata": {
    "colab": {
      "name": "PWL_Scrap.ipynb",
      "provenance": []
    },
    "kernelspec": {
      "name": "python3",
      "display_name": "Python 3"
    },
    "language_info": {
      "name": "python"
    }
  },
  "cells": [
    {
      "cell_type": "code",
      "metadata": {
        "id": "FLOHSFkPfvk2"
      },
      "source": [
        "\n",
        "import requests\n",
        "from pyquery import PyQuery as pq\n",
        "BASE_URL = 'https://news.detik.com/'\n",
        "resp_raw = requests.get(BASE_URL).text\n",
        "html = pq(resp_raw)\n",
        "print(html)\n",
        "berita_utama_media_image = html('div.list-content article.ph_newsfeed_d')\n",
        "berita_utama_media_text = html('div.list-content article.ph_newsfeed_d div.ai_replace_title')\n",
        "data = []\n",
        "print(len(berita_utama_media_image))\n",
        "print(len(berita_utama_media_text))\n",
        "for index in range(len(berita_utama_media_text)):\n",
        "    data.append({'title': berita_utama_media_text[index].text.replace('\\n', '').strip(),\n",
        "                'link': berita_utama_media_image.eq(index).attr('i-link'),\n",
        "                'image': berita_utama_media_image.eq(index).attr('i-img'),\n",
        "                'source': 'detik-com'})\n",
        "data\n",
        "\n"
      ],
      "execution_count": null,
      "outputs": []
    },
    {
      "cell_type": "code",
      "metadata": {
        "id": "uBOtqxWvhuCw"
      },
      "source": [
        "# out_list = []\n",
        "# for url in urls:\n",
        "#     res = requests.get(url)\n",
        "#     out_list.append(res.text)\n",
        "import json\n",
        "json_file = open('detik.json','w')\n",
        "json.dump(data,json_file)\n",
        "json_file.close()"
      ],
      "execution_count": null,
      "outputs": []
    },
    {
      "cell_type": "code",
      "metadata": {
        "id": "EbSNyIIugDxq"
      },
      "source": [
        "BASE_URL1 = 'https://www.goal.com/id/berita/1'\n",
        "resp_raw1 = requests.get(BASE_URL1).text\n",
        "html1 = pq(resp_raw1)\n",
        "print(html1)\n",
        "berita_utama_media_image1 = html1('div.page-container div.widget-news-archive td.widget-news-card__image img')\n",
        "berita_utama_media_text1 = html1('div.page-container div.widget-news-archive td.widget-news-card__content a')\n",
        "print(len(berita_utama_media_image1))\n",
        "data1 = []\n",
        "for index in range(len(berita_utama_media_text1)):\n",
        "    data1.append({'title': berita_utama_media_text1[index].text.replace('\\n', '').strip(),\n",
        "                'link': 'https://goal.com'+berita_utama_media_text1.eq(index).attr('href'),\n",
        "                'image': berita_utama_media_image1.eq(index).attr('src'),\n",
        "                'source': 'goal-com'})\n",
        "data1"
      ],
      "execution_count": null,
      "outputs": []
    },
    {
      "cell_type": "code",
      "metadata": {
        "id": "oHEGm5DUVaUf"
      },
      "source": [
        "json_file1 = open('goal.json','w')\n",
        "json.dump(data1,json_file1)\n",
        "json_file1.close()"
      ],
      "execution_count": null,
      "outputs": []
    },
    {
      "cell_type": "code",
      "metadata": {
        "id": "tNVWEiRHHmjo"
      },
      "source": [
        "BASE_URL2 = 'https://www.panditfootball.com/'\n",
        "resp_raw2 = requests.get(BASE_URL2).text\n",
        "html2 = pq(resp_raw2)\n",
        "print(html2)\n",
        "berita_utama_media_image2 = html2('div.row article a img')\n",
        "berita_utama_media_text2 = html2('div.row article header a')\n",
        "data2 = []\n",
        "print(len(berita_utama_media_image2))\n",
        "for index in range(len(berita_utama_media_text2)):\n",
        "    data2.append({'title': berita_utama_media_text2[index].text.replace('\\n', '').strip(),\n",
        "                'link': berita_utama_media_text2.eq(index).attr('href'),\n",
        "                'image': berita_utama_media_image2.eq(index).attr('src'),\n",
        "                'source': 'Panditfootball.com'})\n",
        "data2\n"
      ],
      "execution_count": null,
      "outputs": []
    },
    {
      "cell_type": "code",
      "metadata": {
        "id": "Io0Ud4ZITKIo"
      },
      "source": [
        "import json\n",
        "json_file2 = open('pandit.json','w')\n",
        "json.dump(data2,json_file2)\n",
        "json_file2.close()"
      ],
      "execution_count": null,
      "outputs": []
    },
    {
      "cell_type": "code",
      "metadata": {
        "id": "HnlVRYiSWD76"
      },
      "source": [
        "BASE_URL3 = 'https://sport.detik.com/'\n",
        "resp_raw3 = requests.get(BASE_URL3).text\n",
        "html3 = pq(resp_raw3)\n",
        "print(html3)\n",
        "berita_utama_media_image3 = html3('ul.list_feed article img')\n",
        "berita_utama_media_text3 = html3('ul.list_feed article div.desc_nhl a')\n",
        "berita_utama_media_text3title = html3('ul.list_feed article div.desc_nhl a h2')\n",
        "data3 = []\n",
        "print(len(berita_utama_media_image3))\n",
        "print(len(berita_utama_media_text3))\n",
        "for index in range(len(berita_utama_media_text3)):\n",
        "    data3.append({'title': berita_utama_media_text3title[index].text.replace('\\n', '').strip(),\n",
        "                'link': berita_utama_media_text3.eq(index).attr('href'),\n",
        "                'image': berita_utama_media_image3.eq(index).attr('src'),\n",
        "                'source': 'detik.sport.com'})\n",
        "data3"
      ],
      "execution_count": null,
      "outputs": []
    },
    {
      "cell_type": "code",
      "metadata": {
        "id": "SZZo-O46ZXtT"
      },
      "source": [
        "\n",
        "json_file3 = open('detiksport.json','w')\n",
        "json.dump(data3,json_file3)\n",
        "json_file3.close()"
      ],
      "execution_count": null,
      "outputs": []
    },
    {
      "cell_type": "code",
      "metadata": {
        "id": "IfhTOVAPZuqF"
      },
      "source": [
        "BASE_URL4 = 'https://www.bola.com/'\n",
        "resp_raw4 = requests.get(BASE_URL4).text\n",
        "html4 = pq(resp_raw4)\n",
        "print(html4)\n",
        "berita_utama_media_image4 = html4('div.articles--iridescent-list article.articles--iridescent-list--item a.ui--a source')\n",
        "berita_utama_media_text4 = html4('div.articles--iridescent-list article.articles--iridescent-list--item a.ui--a')\n",
        "berita_utama_media_text4title = html4('div.articles--iridescent-list article.articles--iridescent-list--item a.ui--a')\n",
        "data4 = []\n",
        "print(len(berita_utama_media_image4))\n",
        "print(len(berita_utama_media_text4))\n",
        "for index in range(len(berita_utama_media_text4)):\n",
        "    data4.append({'title': berita_utama_media_text4.eq(index).attr('title'),\n",
        "                'link': berita_utama_media_text4.eq(index).attr('href'),\n",
        "                'image': berita_utama_media_image4.eq(index).attr('data-srcset'),\n",
        "                'source': 'bola.com'})\n",
        "\n",
        "print(len(berita_utama_media_image4))\n",
        "print(len(berita_utama_media_text4))\n",
        "data4"
      ],
      "execution_count": null,
      "outputs": []
    },
    {
      "cell_type": "code",
      "metadata": {
        "id": "B4Ixge5Bj3HL"
      },
      "source": [
        "json_file4 = open('bola.json','w')\n",
        "json.dump(data4,json_file4)\n",
        "json_file4.close()"
      ],
      "execution_count": null,
      "outputs": []
    }
  ]
}